{
 "cells": [
  {
   "cell_type": "code",
   "execution_count": null,
   "id": "2b7c99ab",
   "metadata": {},
   "outputs": [
    {
     "name": "stdout",
     "output_type": "stream",
     "text": [
      " * Serving Flask app '__main__'\n",
      " * Debug mode: off\n"
     ]
    },
    {
     "name": "stderr",
     "output_type": "stream",
     "text": [
      "WARNING: This is a development server. Do not use it in a production deployment. Use a production WSGI server instead.\n",
      " * Running on http://127.0.0.1:5000\n",
      "Press CTRL+C to quit\n"
     ]
    }
   ],
   "source": [
    "from flask import Flask, redirect, url_for, render_template, request, abort, flash\n",
    "import sqlite3\n",
    "\n",
    "\n",
    "# Initialize Flask\n",
    "app = Flask(__name__)\n",
    "\n",
    "def get_db_connection():\n",
    "    con = sqlite3.connect('flashcards.db')\n",
    "    con.row_factory = sqlite3.Row\n",
    "    return con\n",
    "\n",
    "@app.route('/')\n",
    "def index():\n",
    "    con = get_db_connection()\n",
    "    query = con.execute('SELECT * FROM posts').fetchall()\n",
    "    con.close()\n",
    "    return render_template('index.html', query = query)\n",
    "\n",
    "        \n",
    "# Call Main\n",
    "if __name__ == '__main__':\n",
    "    app.run()"
   ]
  },
  {
   "cell_type": "code",
   "execution_count": 1,
   "id": "b63354ed",
   "metadata": {},
   "outputs": [],
   "source": [
    "def get_db_connection():\n",
    "    con = sqlite3.connect('flashcards.db')\n",
    "    con.row_factory = sqlite3.Row\n",
    "    return con"
   ]
  },
  {
   "cell_type": "code",
   "execution_count": 3,
   "id": "d87c70e6",
   "metadata": {},
   "outputs": [],
   "source": [
    "import sqlite3"
   ]
  },
  {
   "cell_type": "code",
   "execution_count": 4,
   "id": "62fafbef",
   "metadata": {},
   "outputs": [],
   "source": [
    "con = get_db_connection()\n",
    "query = con.execute('SELECT * FROM QUESTIONS').fetchall()\n",
    "con.close()"
   ]
  },
  {
   "cell_type": "code",
   "execution_count": 9,
   "id": "489a78d4",
   "metadata": {},
   "outputs": [
    {
     "name": "stdout",
     "output_type": "stream",
     "text": [
      "HTML\n",
      "SQL\n"
     ]
    }
   ],
   "source": [
    "for each in query:\n",
    "    print(each['TOPIC'])"
   ]
  },
  {
   "cell_type": "code",
   "execution_count": null,
   "id": "244ef34a",
   "metadata": {},
   "outputs": [],
   "source": []
  }
 ],
 "metadata": {
  "kernelspec": {
   "display_name": "Python 3 (ipykernel)",
   "language": "python",
   "name": "python3"
  },
  "language_info": {
   "codemirror_mode": {
    "name": "ipython",
    "version": 3
   },
   "file_extension": ".py",
   "mimetype": "text/x-python",
   "name": "python",
   "nbconvert_exporter": "python",
   "pygments_lexer": "ipython3",
   "version": "3.10.5"
  }
 },
 "nbformat": 4,
 "nbformat_minor": 5
}
